{
 "cells": [
  {
   "cell_type": "code",
   "execution_count": 2,
   "id": "3ed4c625",
   "metadata": {},
   "outputs": [],
   "source": [
    "#IMPORTING LIBRARIES\n",
    "\n",
    "from bs4 import BeautifulSoup\n",
    "import requests\n",
    "import smtplib\n",
    "import time\n",
    "import datetime\n"
   ]
  },
  {
   "cell_type": "code",
   "execution_count": 44,
   "id": "68064e97",
   "metadata": {},
   "outputs": [
    {
     "name": "stdout",
     "output_type": "stream",
     "text": [
      "\n",
      "                   Funny Got Data MIS Data Systems Business Analyst T-Shirt\n",
      "                  \n"
     ]
    }
   ],
   "source": [
    "#CONNECT TO A WEBSITE\n",
    "\n",
    "URL ='https://www.amazon.com/Funny-Data-Systems-Business-Analyst/dp/B07FNW9FGJ/ref=sr_1_3?dchild=1&keywords=data%2Banalyst%2Btshirt&qid=1626655184&sr=8-3&customId=B0752XJYNL&th=1'\n",
    "\n",
    "headers = {\"User-Agent\": \"Mozilla/5.0 (Windows NT 10.0; Win64; x64) AppleWebKit/537.36 (KHTML, like Gecko) Chrome/102.0.0.0 Safari/537.36\"}\n",
    "\n",
    "page = requests.get(URL,headers=headers)\n",
    "\n",
    "Soup1 = BeautifulSoup(page.content,\"html.parser\")\n",
    "\n",
    "Soup2 = BeautifulSoup(Soup1.prettify(),\"html.parser\")\n",
    "\n",
    "title = Soup2.find(id='productTitle').get_text()\n",
    "\n",
    "print(title)\n",
    "\n"
   ]
  },
  {
   "cell_type": "code",
   "execution_count": 50,
   "id": "d8e4b790",
   "metadata": {},
   "outputs": [
    {
     "name": "stdout",
     "output_type": "stream",
     "text": [
      "Funny Got Data MIS Data Systems Business Analyst T-Shirt\n"
     ]
    }
   ],
   "source": [
    "title = title.strip()\n",
    "print (title)"
   ]
  },
  {
   "cell_type": "code",
   "execution_count": 94,
   "id": "d03210c2",
   "metadata": {},
   "outputs": [
    {
     "name": "stdout",
     "output_type": "stream",
     "text": [
      "2022-06-29\n"
     ]
    }
   ],
   "source": [
    "import datetime \n",
    "datetime.date.today()\n",
    "today = datetime.date.today()\n",
    "print(today)"
   ]
  },
  {
   "cell_type": "code",
   "execution_count": 73,
   "id": "5fcb9fbf",
   "metadata": {},
   "outputs": [
    {
     "data": {
      "text/plain": [
       "list"
      ]
     },
     "execution_count": 73,
     "metadata": {},
     "output_type": "execute_result"
    }
   ],
   "source": [
    "type(data)"
   ]
  },
  {
   "cell_type": "code",
   "execution_count": 98,
   "id": "030bfb4a",
   "metadata": {},
   "outputs": [],
   "source": [
    "import csv \n",
    "\n",
    "header = ['Title','Date']\n",
    "data = [title,today]\n",
    "\n",
    "\n",
    "with open('AmazonWebScraperDataset.csv', 'w', newline='', encoding='UTF8') as f:\n",
    "    writer = csv.writer(f)\n",
    "    writer.writerow(header)\n",
    "    writer.writerow(data)\n",
    "    "
   ]
  },
  {
   "cell_type": "code",
   "execution_count": 99,
   "id": "a63f415e",
   "metadata": {},
   "outputs": [],
   "source": [
    "    import pandas as pd \n",
    "    df = pd.read_csv(r'C:\\Users\\worka\\AmazonWebScraperDataset.csv')"
   ]
  },
  {
   "cell_type": "code",
   "execution_count": 107,
   "id": "2b6bf57e",
   "metadata": {},
   "outputs": [
    {
     "name": "stdout",
     "output_type": "stream",
     "text": [
      "                                               Title        Date\n",
      "0  Funny Got Data MIS Data Systems Business Analy...  2022-06-29\n"
     ]
    }
   ],
   "source": [
    "print(df)"
   ]
  },
  {
   "cell_type": "code",
   "execution_count": 109,
   "id": "46d13583",
   "metadata": {},
   "outputs": [],
   "source": [
    "# Appending the data \n",
    "\n",
    "with open('AmazonWebScraperDataset.csv', 'a+', newline='', encoding='UTF8') as f:\n",
    "    writer = csv.writer(f)\n",
    "    writer.writerow(data)\n",
    "\n"
   ]
  },
  {
   "cell_type": "code",
   "execution_count": null,
   "id": "046f9224",
   "metadata": {},
   "outputs": [],
   "source": [
    "def check_title () :\n",
    "    URL ='https://www.amazon.com/Funny-Data-Systems-Business-Analyst/dp/B07FNW9FGJ/ref=sr_1_3?dchild=1&keywords=data%2Banalyst%2Btshirt&qid=1626655184&sr=8-3&customId=B0752XJYNL&th=1'\n",
    "\n",
    "    headers = {\"User-Agent\": \"Mozilla/5.0 (Windows NT 10.0; Win64; x64) AppleWebKit/537.36 (KHTML, like Gecko) Chrome/102.0.0.0 Safari/537.36\"}\n",
    "\n",
    "    page = requests.get(URL,headers=headers)\n",
    "\n",
    "    Soup1 = BeautifulSoup(page.content,\"html.parser\")\n",
    "\n",
    "    Soup2 = BeautifulSoup(Soup1.prettify(),\"html.parser\")\n",
    "    \n",
    "    title = title.strip()\n",
    "    \n",
    "    import datetime\n",
    "\n",
    "    today = datetime.date.today()\n",
    "    \n",
    "    import csv \n",
    "    \n",
    "    header = ['Title','Date']\n",
    "    \n",
    "    data = [title,today]\n",
    "\n",
    "    with open('AmazonWebScraperDataset.csv', 'w', newline='', encoding='UTF8') as f:\n",
    "    writer = csv.writer(f)\n",
    "    writer.writerow(data)\n",
    "    \n",
    "    "
   ]
  },
  {
   "cell_type": "code",
   "execution_count": null,
   "id": "c6d5bdc0",
   "metadata": {},
   "outputs": [],
   "source": [
    "while (true) :\n",
    "    check_title ()\n",
    "    time.sleep (86400) #to check title for every day"
   ]
  },
  {
   "cell_type": "code",
   "execution_count": 113,
   "id": "a4c91ba1",
   "metadata": {},
   "outputs": [
    {
     "name": "stdout",
     "output_type": "stream",
     "text": [
      "                                               Title        Date\n",
      "0  Funny Got Data MIS Data Systems Business Analy...  2022-06-29\n",
      "1  Funny Got Data MIS Data Systems Business Analy...  2022-06-29\n",
      "2  Funny Got Data MIS Data Systems Business Analy...  2022-06-29\n",
      "3  Funny Got Data MIS Data Systems Business Analy...  2022-06-29\n",
      "4  Funny Got Data MIS Data Systems Business Analy...  2022-06-29\n",
      "5  Funny Got Data MIS Data Systems Business Analy...  2022-06-29\n"
     ]
    }
   ],
   "source": [
    "    import pandas as pd \n",
    "    df = pd.read_csv(r'C:\\Users\\worka\\AmazonWebScraperDataset.csv')\n",
    "    print(df)"
   ]
  },
  {
   "cell_type": "code",
   "execution_count": null,
   "id": "b61a6ce8",
   "metadata": {},
   "outputs": [],
   "source": []
  }
 ],
 "metadata": {
  "kernelspec": {
   "display_name": "Python 3 (ipykernel)",
   "language": "python",
   "name": "python3"
  },
  "language_info": {
   "codemirror_mode": {
    "name": "ipython",
    "version": 3
   },
   "file_extension": ".py",
   "mimetype": "text/x-python",
   "name": "python",
   "nbconvert_exporter": "python",
   "pygments_lexer": "ipython3",
   "version": "3.9.7"
  }
 },
 "nbformat": 4,
 "nbformat_minor": 5
}
